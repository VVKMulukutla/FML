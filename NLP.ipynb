{
  "nbformat": 4,
  "nbformat_minor": 0,
  "metadata": {
    "colab": {
      "provenance": [],
      "authorship_tag": "ABX9TyMBz/0T81SfGbIrm+kKGqqQ",
      "include_colab_link": true
    },
    "kernelspec": {
      "name": "python3",
      "display_name": "Python 3"
    },
    "language_info": {
      "name": "python"
    }
  },
  "cells": [
    {
      "cell_type": "markdown",
      "metadata": {
        "id": "view-in-github",
        "colab_type": "text"
      },
      "source": [
        "<a href=\"https://colab.research.google.com/github/VVKMulukutla/FML/blob/main/NLP.ipynb\" target=\"_parent\"><img src=\"https://colab.research.google.com/assets/colab-badge.svg\" alt=\"Open In Colab\"/></a>"
      ]
    },
    {
      "cell_type": "markdown",
      "source": [
        "Tokenization refers to splitting of a large sentence or a paragraph into various fundamental entities such as words, sentences and punctuation marks.\n",
        "\n",
        "This is done in three ways : \n",
        "* Python's String Split()\n",
        "* Powerful Regular Expressions\n",
        "* Natural Language Tool Kit\n"
      ],
      "metadata": {
        "id": "goZ05DFCtDRL"
      }
    },
    {
      "cell_type": "code",
      "execution_count": null,
      "metadata": {
        "id": "O-bqQ2mnsetu"
      },
      "outputs": [],
      "source": [
        "#Consider an example paragraph\n",
        "\n",
        "para = \"There once was a ship was Billy O' Tea. \\n The Winds blew up, her bow dipped down. Oh blow, my Bully Boys, Blow(huh).\""
      ]
    },
    {
      "cell_type": "code",
      "source": [
        "#Via Python's Split Fucntion\n",
        "print(para.split())\n"
      ],
      "metadata": {
        "colab": {
          "base_uri": "https://localhost:8080/"
        },
        "id": "WBsVYSu9vcqb",
        "outputId": "62917f7c-7b51-4756-c6cf-f079fbcfb946"
      },
      "execution_count": null,
      "outputs": [
        {
          "output_type": "stream",
          "name": "stdout",
          "text": [
            "['There', 'once', 'was', 'a', 'ship', 'was', 'Billy', \"O'\", 'Tea.', 'The', 'Winds', 'blew', 'up,', 'her', 'bow', 'dipped', 'down.', 'Oh', 'blow,', 'my', 'Bully', 'Boys,', 'Blow(huh).']\n"
          ]
        }
      ]
    },
    {
      "cell_type": "code",
      "source": [
        "#Via Regular Expressions\n",
        "import re\n",
        "x = re.findall(\"[\\w']+\", para)\n",
        "print(x)"
      ],
      "metadata": {
        "colab": {
          "base_uri": "https://localhost:8080/"
        },
        "id": "c4VqVtZJvxkQ",
        "outputId": "0fcfef14-2956-433b-b63d-5cb8dc6f689e"
      },
      "execution_count": null,
      "outputs": [
        {
          "output_type": "stream",
          "name": "stdout",
          "text": [
            "['There', 'once', 'was', 'a', 'ship', 'was', 'Billy', \"O'\", 'Tea', 'The', 'Winds', 'blew', 'up', 'her', 'bow', 'dipped', 'down', 'Oh', 'blow', 'my', 'Bully', 'Boys', 'Blow', 'huh']\n"
          ]
        }
      ]
    },
    {
      "cell_type": "code",
      "source": [
        "regex = re.compile('[\\D]+')\n",
        "res = regex.findall(para)\n",
        "print(res)"
      ],
      "metadata": {
        "colab": {
          "base_uri": "https://localhost:8080/"
        },
        "id": "bDJntMuEwD7Y",
        "outputId": "93784700-f544-48d9-f311-4c1d84cca5be"
      },
      "execution_count": null,
      "outputs": [
        {
          "output_type": "stream",
          "name": "stdout",
          "text": [
            "[\"There once was a ship was Billy O' Tea. \\n The Winds blew up, her bow dipped down. Oh blow, my Bully Boys, Blow(huh).\"]\n"
          ]
        }
      ]
    },
    {
      "cell_type": "code",
      "source": [
        "!pip install nltk "
      ],
      "metadata": {
        "colab": {
          "base_uri": "https://localhost:8080/"
        },
        "id": "TsK7yKQ08qnV",
        "outputId": "10401acd-2743-4130-d883-638c2ed63e4e"
      },
      "execution_count": null,
      "outputs": [
        {
          "output_type": "stream",
          "name": "stdout",
          "text": [
            "Looking in indexes: https://pypi.org/simple, https://us-python.pkg.dev/colab-wheels/public/simple/\n",
            "Requirement already satisfied: nltk in /usr/local/lib/python3.10/dist-packages (3.8.1)\n",
            "Requirement already satisfied: click in /usr/local/lib/python3.10/dist-packages (from nltk) (8.1.3)\n",
            "Requirement already satisfied: joblib in /usr/local/lib/python3.10/dist-packages (from nltk) (1.2.0)\n",
            "Requirement already satisfied: regex>=2021.8.3 in /usr/local/lib/python3.10/dist-packages (from nltk) (2022.10.31)\n",
            "Requirement already satisfied: tqdm in /usr/local/lib/python3.10/dist-packages (from nltk) (4.65.0)\n"
          ]
        }
      ]
    },
    {
      "cell_type": "code",
      "source": [
        "import nltk\n",
        "from nltk.tokenize import word_tokenize, sent_tokenize\n",
        "nltk.download('punkt')\n",
        "wt = word_tokenize(para)\n",
        "print('No of Tokens : ', len(wt))"
      ],
      "metadata": {
        "colab": {
          "base_uri": "https://localhost:8080/"
        },
        "id": "_l0VO_BG9h69",
        "outputId": "1d3bc4ff-47b5-470c-f44f-47092e9e6bb2"
      },
      "execution_count": null,
      "outputs": [
        {
          "output_type": "stream",
          "name": "stdout",
          "text": [
            "No of Tokens :  33\n"
          ]
        },
        {
          "output_type": "stream",
          "name": "stderr",
          "text": [
            "[nltk_data] Downloading package punkt to /root/nltk_data...\n",
            "[nltk_data]   Package punkt is already up-to-date!\n"
          ]
        }
      ]
    },
    {
      "cell_type": "code",
      "source": [
        "print(sent_tokenize(para))\n",
        "print(\"No of Sentences : \",len(sent_tokenize(para)))"
      ],
      "metadata": {
        "colab": {
          "base_uri": "https://localhost:8080/"
        },
        "id": "tJYckwnl94Pl",
        "outputId": "f72b44da-2c9b-4097-8fd9-cfd86bc60821"
      },
      "execution_count": null,
      "outputs": [
        {
          "output_type": "stream",
          "name": "stdout",
          "text": [
            "[\"There once was a ship was Billy O' Tea.\", 'The Winds blew up, her bow dipped down.', 'Oh blow, my Bully Boys, Blow(huh).']\n",
            "No of Sentences :  3\n"
          ]
        }
      ]
    },
    {
      "cell_type": "code",
      "source": [
        "from nltk.stem import PorterStemmer\n",
        "from nltk.stem import WordNetLemmatizer\n",
        "nltk.download('wordnet')\n",
        "ps = PorterStemmer()\n",
        "wnl = WordNetLemmatizer()\n",
        "\n"
      ],
      "metadata": {
        "colab": {
          "base_uri": "https://localhost:8080/"
        },
        "id": "bb9D-FjDCkw2",
        "outputId": "1c6ce792-fea6-4086-c57d-14d595c95ee6"
      },
      "execution_count": null,
      "outputs": [
        {
          "output_type": "stream",
          "name": "stderr",
          "text": [
            "[nltk_data] Downloading package wordnet to /root/nltk_data...\n",
            "[nltk_data]   Package wordnet is already up-to-date!\n"
          ]
        }
      ]
    },
    {
      "cell_type": "code",
      "source": [
        "stemmed = \"\"\n",
        "lemmatized = \"\"\n",
        "for i in x:\n",
        "    stemmed += ps.stem(i)+ \" \"\n",
        "    lemmatized += wnl.lemmatize(i) + \" \"\n",
        "print(stemmed)\n",
        "print(lemmatized)"
      ],
      "metadata": {
        "colab": {
          "base_uri": "https://localhost:8080/"
        },
        "id": "x7xeuzDfDInc",
        "outputId": "be3fdb98-d5ee-4cb9-8ea1-2968ced9c914"
      },
      "execution_count": null,
      "outputs": [
        {
          "output_type": "stream",
          "name": "stdout",
          "text": [
            "there onc wa a ship wa billi o' tea the wind blew up her bow dip down oh blow my bulli boy blow huh \n",
            "There once wa a ship wa Billy O' Tea The Winds blew up her bow dipped down Oh blow my Bully Boys Blow huh \n"
          ]
        }
      ]
    },
    {
      "cell_type": "code",
      "source": [
        "#punction removal Functions\n",
        "def rempunc(sen):\n",
        "    line = '<>?:\"{}|+_)(*&^%$#@!~,./;\\'][=-'\n",
        "    ret_str = ''\n",
        "    for i in sen: \n",
        "        if i not in line: ret_str += i\n",
        "    return ret_str\n",
        "def rempunc2(sen):\n",
        "    regex = re.compile(\"[\\w\\s']+\")\n",
        "    return regex.findall(sen)"
      ],
      "metadata": {
        "id": "e3aguKDjDfv4"
      },
      "execution_count": 61,
      "outputs": []
    }
  ]
}